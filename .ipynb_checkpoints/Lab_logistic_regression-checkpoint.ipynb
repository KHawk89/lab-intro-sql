{
 "cells": [
  {
   "cell_type": "markdown",
   "metadata": {},
   "source": [
    "## Logistic Regression\n",
    "\n",
    "Logistic Regression is a model to predict the probability of a CATEGORICAL target.\n",
    "\n",
    "The target variable can be:\n",
    "* Binary: yes or no (0 or 1)\n",
    "* Multi-nomial: more then 2 options, without hierarchy (i.e.:cat, dog and mouse)\n",
    "* Ordinal: more then 2 options, with hierarchy (i.e.: rating from 1 to 5)\n",
    "\n",
    "Don't forget the [DOCS](https://scikit-learn.org/stable/modules/generated/sklearn.linear_model.LogisticRegression.html). <br>\n",
    "More on formulas and functions [here](https://towardsdatascience.com/logistic-regression-detailed-overview-46c4da4303bc)."
   ]
  },
  {
   "cell_type": "code",
   "execution_count": 1,
   "metadata": {
    "scrolled": true
   },
   "outputs": [
    {
     "name": "stdout",
     "output_type": "stream",
     "text": [
      "········\n"
     ]
    }
   ],
   "source": [
    "import pymysql\n",
    "from sqlalchemy import create_engine\n",
    "import pandas as pd\n",
    "import numpy as np\n",
    "from matplotlib import pyplot as plt\n",
    "import seaborn as sns\n",
    "from sklearn.metrics import confusion_matrix\n",
    "from sklearn.model_selection import train_test_split\n",
    "from sklearn.linear_model import LogisticRegression\n",
    "from sklearn.preprocessing import StandardScaler\n",
    "\n",
    "import getpass  # to get the password without showing the input\n",
    "password = getpass.getpass()\n",
    "\n",
    "connection_string = 'mysql+pymysql://root:' + password + '@localhost/bank'\n",
    "engine = create_engine(connection_string)"
   ]
  },
  {
   "cell_type": "code",
   "execution_count": 2,
   "metadata": {},
   "outputs": [
    {
     "data": {
      "text/html": [
       "<div>\n",
       "<style scoped>\n",
       "    .dataframe tbody tr th:only-of-type {\n",
       "        vertical-align: middle;\n",
       "    }\n",
       "\n",
       "    .dataframe tbody tr th {\n",
       "        vertical-align: top;\n",
       "    }\n",
       "\n",
       "    .dataframe thead th {\n",
       "        text-align: right;\n",
       "    }\n",
       "</style>\n",
       "<table border=\"1\" class=\"dataframe\">\n",
       "  <thead>\n",
       "    <tr style=\"text-align: right;\">\n",
       "      <th></th>\n",
       "      <th>rental_duration</th>\n",
       "      <th>rental_rate</th>\n",
       "      <th>length</th>\n",
       "      <th>replacement_cost</th>\n",
       "      <th>count_special_features</th>\n",
       "      <th>rented_last_month</th>\n",
       "    </tr>\n",
       "  </thead>\n",
       "  <tbody>\n",
       "    <tr>\n",
       "      <th>0</th>\n",
       "      <td>6</td>\n",
       "      <td>0.99</td>\n",
       "      <td>86</td>\n",
       "      <td>20.99</td>\n",
       "      <td>2</td>\n",
       "      <td>A</td>\n",
       "    </tr>\n",
       "    <tr>\n",
       "      <th>1</th>\n",
       "      <td>3</td>\n",
       "      <td>4.99</td>\n",
       "      <td>48</td>\n",
       "      <td>12.99</td>\n",
       "      <td>2</td>\n",
       "      <td>A</td>\n",
       "    </tr>\n",
       "    <tr>\n",
       "      <th>2</th>\n",
       "      <td>7</td>\n",
       "      <td>2.99</td>\n",
       "      <td>50</td>\n",
       "      <td>18.99</td>\n",
       "      <td>2</td>\n",
       "      <td>A</td>\n",
       "    </tr>\n",
       "    <tr>\n",
       "      <th>3</th>\n",
       "      <td>5</td>\n",
       "      <td>2.99</td>\n",
       "      <td>117</td>\n",
       "      <td>26.99</td>\n",
       "      <td>2</td>\n",
       "      <td>A</td>\n",
       "    </tr>\n",
       "    <tr>\n",
       "      <th>4</th>\n",
       "      <td>6</td>\n",
       "      <td>2.99</td>\n",
       "      <td>130</td>\n",
       "      <td>22.99</td>\n",
       "      <td>1</td>\n",
       "      <td>A</td>\n",
       "    </tr>\n",
       "    <tr>\n",
       "      <th>...</th>\n",
       "      <td>...</td>\n",
       "      <td>...</td>\n",
       "      <td>...</td>\n",
       "      <td>...</td>\n",
       "      <td>...</td>\n",
       "      <td>...</td>\n",
       "    </tr>\n",
       "    <tr>\n",
       "      <th>995</th>\n",
       "      <td>6</td>\n",
       "      <td>0.99</td>\n",
       "      <td>183</td>\n",
       "      <td>9.99</td>\n",
       "      <td>2</td>\n",
       "      <td>A</td>\n",
       "    </tr>\n",
       "    <tr>\n",
       "      <th>996</th>\n",
       "      <td>4</td>\n",
       "      <td>0.99</td>\n",
       "      <td>179</td>\n",
       "      <td>14.99</td>\n",
       "      <td>2</td>\n",
       "      <td>A</td>\n",
       "    </tr>\n",
       "    <tr>\n",
       "      <th>997</th>\n",
       "      <td>6</td>\n",
       "      <td>0.99</td>\n",
       "      <td>105</td>\n",
       "      <td>10.99</td>\n",
       "      <td>1</td>\n",
       "      <td>A</td>\n",
       "    </tr>\n",
       "    <tr>\n",
       "      <th>998</th>\n",
       "      <td>5</td>\n",
       "      <td>2.99</td>\n",
       "      <td>101</td>\n",
       "      <td>28.99</td>\n",
       "      <td>2</td>\n",
       "      <td>A</td>\n",
       "    </tr>\n",
       "    <tr>\n",
       "      <th>999</th>\n",
       "      <td>3</td>\n",
       "      <td>4.99</td>\n",
       "      <td>50</td>\n",
       "      <td>18.99</td>\n",
       "      <td>3</td>\n",
       "      <td>A</td>\n",
       "    </tr>\n",
       "  </tbody>\n",
       "</table>\n",
       "<p>1000 rows × 6 columns</p>\n",
       "</div>"
      ],
      "text/plain": [
       "     rental_duration  rental_rate  length  replacement_cost  \\\n",
       "0                  6         0.99      86             20.99   \n",
       "1                  3         4.99      48             12.99   \n",
       "2                  7         2.99      50             18.99   \n",
       "3                  5         2.99     117             26.99   \n",
       "4                  6         2.99     130             22.99   \n",
       "..               ...          ...     ...               ...   \n",
       "995                6         0.99     183              9.99   \n",
       "996                4         0.99     179             14.99   \n",
       "997                6         0.99     105             10.99   \n",
       "998                5         2.99     101             28.99   \n",
       "999                3         4.99      50             18.99   \n",
       "\n",
       "     count_special_features rented_last_month  \n",
       "0                         2                 A  \n",
       "1                         2                 A  \n",
       "2                         2                 A  \n",
       "3                         2                 A  \n",
       "4                         1                 A  \n",
       "..                      ...               ...  \n",
       "995                       2                 A  \n",
       "996                       2                 A  \n",
       "997                       1                 A  \n",
       "998                       2                 A  \n",
       "999                       3                 A  \n",
       "\n",
       "[1000 rows x 6 columns]"
      ]
     },
     "execution_count": 2,
     "metadata": {},
     "output_type": "execute_result"
    }
   ],
   "source": [
    "query = '''select rental_duration, rental_rate, length, replacement_cost,count_special_features ,case when count(rented_last_month) > 1 then 'A'  else  'B' end as rented_last_month from\n",
    "(select a.film_id, a.rental_duration, a.rental_rate, a.length, a.replacement_cost,length(a.special_features) - length(replace(a.special_features, ',', '')) +1 as count_special_features ,c.rental_date ,case when month(c.rental_date) = 07 then 1  else  0 end as rented_last_month from sakila.film a \n",
    "left join sakila.inventory b\n",
    "on a.film_id = b.film_id\n",
    "left join sakila.rental c\n",
    "on b.inventory_id = c.inventory_id\n",
    "order by a.film_id)sub1\n",
    "group by film_id;'''\n",
    "\n",
    "data = pd.read_sql_query(query, engine)\n",
    "data"
   ]
  },
  {
   "cell_type": "code",
   "execution_count": 3,
   "metadata": {},
   "outputs": [
    {
     "data": {
      "text/plain": [
       "((1000, 6),\n",
       " rental_duration             int64\n",
       " rental_rate               float64\n",
       " length                      int64\n",
       " replacement_cost          float64\n",
       " count_special_features      int64\n",
       " rented_last_month          object\n",
       " dtype: object)"
      ]
     },
     "execution_count": 3,
     "metadata": {},
     "output_type": "execute_result"
    }
   ],
   "source": [
    "data.shape, data.dtypes"
   ]
  },
  {
   "cell_type": "code",
   "execution_count": 4,
   "metadata": {},
   "outputs": [
    {
     "data": {
      "text/plain": [
       "rental_duration           0\n",
       "rental_rate               0\n",
       "length                    0\n",
       "replacement_cost          0\n",
       "count_special_features    0\n",
       "rented_last_month         0\n",
       "dtype: int64"
      ]
     },
     "execution_count": 4,
     "metadata": {},
     "output_type": "execute_result"
    }
   ],
   "source": [
    "data.isna().sum()"
   ]
  },
  {
   "cell_type": "code",
   "execution_count": 5,
   "metadata": {},
   "outputs": [
    {
     "data": {
      "text/html": [
       "<div>\n",
       "<style scoped>\n",
       "    .dataframe tbody tr th:only-of-type {\n",
       "        vertical-align: middle;\n",
       "    }\n",
       "\n",
       "    .dataframe tbody tr th {\n",
       "        vertical-align: top;\n",
       "    }\n",
       "\n",
       "    .dataframe thead th {\n",
       "        text-align: right;\n",
       "    }\n",
       "</style>\n",
       "<table border=\"1\" class=\"dataframe\">\n",
       "  <thead>\n",
       "    <tr style=\"text-align: right;\">\n",
       "      <th></th>\n",
       "      <th>rental_duration</th>\n",
       "      <th>rental_rate</th>\n",
       "      <th>length</th>\n",
       "      <th>replacement_cost</th>\n",
       "      <th>count_special_features</th>\n",
       "    </tr>\n",
       "  </thead>\n",
       "  <tbody>\n",
       "    <tr>\n",
       "      <th>count</th>\n",
       "      <td>1000.000000</td>\n",
       "      <td>1000.000000</td>\n",
       "      <td>1000.000000</td>\n",
       "      <td>1000.000000</td>\n",
       "      <td>1000.000000</td>\n",
       "    </tr>\n",
       "    <tr>\n",
       "      <th>mean</th>\n",
       "      <td>4.985000</td>\n",
       "      <td>2.980000</td>\n",
       "      <td>115.272000</td>\n",
       "      <td>19.984000</td>\n",
       "      <td>2.115000</td>\n",
       "    </tr>\n",
       "    <tr>\n",
       "      <th>std</th>\n",
       "      <td>1.411654</td>\n",
       "      <td>1.646393</td>\n",
       "      <td>40.426332</td>\n",
       "      <td>6.050833</td>\n",
       "      <td>0.868637</td>\n",
       "    </tr>\n",
       "    <tr>\n",
       "      <th>min</th>\n",
       "      <td>3.000000</td>\n",
       "      <td>0.990000</td>\n",
       "      <td>46.000000</td>\n",
       "      <td>9.990000</td>\n",
       "      <td>1.000000</td>\n",
       "    </tr>\n",
       "    <tr>\n",
       "      <th>25%</th>\n",
       "      <td>4.000000</td>\n",
       "      <td>0.990000</td>\n",
       "      <td>80.000000</td>\n",
       "      <td>14.990000</td>\n",
       "      <td>1.000000</td>\n",
       "    </tr>\n",
       "    <tr>\n",
       "      <th>50%</th>\n",
       "      <td>5.000000</td>\n",
       "      <td>2.990000</td>\n",
       "      <td>114.000000</td>\n",
       "      <td>19.990000</td>\n",
       "      <td>2.000000</td>\n",
       "    </tr>\n",
       "    <tr>\n",
       "      <th>75%</th>\n",
       "      <td>6.000000</td>\n",
       "      <td>4.990000</td>\n",
       "      <td>149.250000</td>\n",
       "      <td>24.990000</td>\n",
       "      <td>3.000000</td>\n",
       "    </tr>\n",
       "    <tr>\n",
       "      <th>max</th>\n",
       "      <td>7.000000</td>\n",
       "      <td>4.990000</td>\n",
       "      <td>185.000000</td>\n",
       "      <td>29.990000</td>\n",
       "      <td>4.000000</td>\n",
       "    </tr>\n",
       "  </tbody>\n",
       "</table>\n",
       "</div>"
      ],
      "text/plain": [
       "       rental_duration  rental_rate       length  replacement_cost  \\\n",
       "count      1000.000000  1000.000000  1000.000000       1000.000000   \n",
       "mean          4.985000     2.980000   115.272000         19.984000   \n",
       "std           1.411654     1.646393    40.426332          6.050833   \n",
       "min           3.000000     0.990000    46.000000          9.990000   \n",
       "25%           4.000000     0.990000    80.000000         14.990000   \n",
       "50%           5.000000     2.990000   114.000000         19.990000   \n",
       "75%           6.000000     4.990000   149.250000         24.990000   \n",
       "max           7.000000     4.990000   185.000000         29.990000   \n",
       "\n",
       "       count_special_features  \n",
       "count             1000.000000  \n",
       "mean                 2.115000  \n",
       "std                  0.868637  \n",
       "min                  1.000000  \n",
       "25%                  1.000000  \n",
       "50%                  2.000000  \n",
       "75%                  3.000000  \n",
       "max                  4.000000  "
      ]
     },
     "execution_count": 5,
     "metadata": {},
     "output_type": "execute_result"
    }
   ],
   "source": [
    "data.describe()"
   ]
  },
  {
   "cell_type": "code",
   "execution_count": 6,
   "metadata": {
    "scrolled": false
   },
   "outputs": [
    {
     "name": "stdout",
     "output_type": "stream",
     "text": [
      "A    958\n",
      "B     42\n",
      "Name: rented_last_month, dtype: int64 \n",
      "\n"
     ]
    }
   ],
   "source": [
    "for col in data.select_dtypes('object'):\n",
    "    print(data[col].value_counts(), '\\n')"
   ]
  },
  {
   "cell_type": "code",
   "execution_count": 7,
   "metadata": {},
   "outputs": [
    {
     "data": {
      "image/png": "[encoded data removed]",
      "text/plain": [
       "<Figure size 720x576 with 2 Axes>"
      ]
     },
     "metadata": {
      "needs_background": "light"
     },
     "output_type": "display_data"
    }
   ],
   "source": [
    "corr_matrix=data.corr(method='pearson')  # default\n",
    "fig, ax = plt.subplots(figsize=(10, 8))\n",
    "ax = sns.heatmap(corr_matrix, annot=True)\n",
    "plt.show()"
   ]
  },
  {
   "cell_type": "code",
   "execution_count": 8,
   "metadata": {},
   "outputs": [
    {
     "name": "stderr",
     "output_type": "stream",
     "text": [
      "C:\\Users\\Flo\\anaconda3\\lib\\site-packages\\seaborn\\distributions.py:2557: FutureWarning: `distplot` is a deprecated function and will be removed in a future version. Please adapt your code to use either `displot` (a figure-level function with similar flexibility) or `histplot` (an axes-level function for histograms).\n",
      "  warnings.warn(msg, FutureWarning)\n"
     ]
    },
    {
     "data": {
      "image/png": "[encoded data removed]",
      "text/plain": [
       "<Figure size 432x288 with 1 Axes>"
      ]
     },
     "metadata": {
      "needs_background": "light"
     },
     "output_type": "display_data"
    },
    {
     "name": "stderr",
     "output_type": "stream",
     "text": [
      "C:\\Users\\Flo\\anaconda3\\lib\\site-packages\\seaborn\\distributions.py:2557: FutureWarning: `distplot` is a deprecated function and will be removed in a future version. Please adapt your code to use either `displot` (a figure-level function with similar flexibility) or `histplot` (an axes-level function for histograms).\n",
      "  warnings.warn(msg, FutureWarning)\n"
     ]
    },
    {
     "data": {
      "image/png": "[encoded data removed]",
      "text/plain": [
       "<Figure size 432x288 with 1 Axes>"
      ]
     },
     "metadata": {
      "needs_background": "light"
     },
     "output_type": "display_data"
    },
    {
     "name": "stderr",
     "output_type": "stream",
     "text": [
      "C:\\Users\\Flo\\anaconda3\\lib\\site-packages\\seaborn\\distributions.py:2557: FutureWarning: `distplot` is a deprecated function and will be removed in a future version. Please adapt your code to use either `displot` (a figure-level function with similar flexibility) or `histplot` (an axes-level function for histograms).\n",
      "  warnings.warn(msg, FutureWarning)\n"
     ]
    },
    {
     "data": {
      "image/png": "[encoded data removed]",
      "text/plain": [
       "<Figure size 432x288 with 1 Axes>"
      ]
     },
     "metadata": {
      "needs_background": "light"
     },
     "output_type": "display_data"
    },
    {
     "name": "stderr",
     "output_type": "stream",
     "text": [
      "C:\\Users\\Flo\\anaconda3\\lib\\site-packages\\seaborn\\distributions.py:2557: FutureWarning: `distplot` is a deprecated function and will be removed in a future version. Please adapt your code to use either `displot` (a figure-level function with similar flexibility) or `histplot` (an axes-level function for histograms).\n",
      "  warnings.warn(msg, FutureWarning)\n"
     ]
    },
    {
     "data": {
      "image/png": "[encoded data removed]",
      "text/plain": [
       "<Figure size 432x288 with 1 Axes>"
      ]
     },
     "metadata": {
      "needs_background": "light"
     },
     "output_type": "display_data"
    },
    {
     "name": "stderr",
     "output_type": "stream",
     "text": [
      "C:\\Users\\Flo\\anaconda3\\lib\\site-packages\\seaborn\\distributions.py:2557: FutureWarning: `distplot` is a deprecated function and will be removed in a future version. Please adapt your code to use either `displot` (a figure-level function with similar flexibility) or `histplot` (an axes-level function for histograms).\n",
      "  warnings.warn(msg, FutureWarning)\n"
     ]
    },
    {
     "data": {
      "image/png": "[encoded data removed]",
      "text/plain": [
       "<Figure size 432x288 with 1 Axes>"
      ]
     },
     "metadata": {
      "needs_background": "light"
     },
     "output_type": "display_data"
    }
   ],
   "source": [
    "for col in data.select_dtypes(np.number):\n",
    "    sns.distplot(data[col])\n",
    "    plt.show()"
   ]
  },
  {
   "cell_type": "code",
   "execution_count": 9,
   "metadata": {},
   "outputs": [],
   "source": [
    "y = data['rented_last_month']\n",
    "X = data.drop('rented_last_month', axis=1)\n"
   ]
  },
  {
   "cell_type": "code",
   "execution_count": 10,
   "metadata": {},
   "outputs": [],
   "source": [
    "X_train, X_test, y_train, y_test = train_test_split(X, y, test_size=0.3, random_state=42)"
   ]
  },
  {
   "cell_type": "code",
   "execution_count": 11,
   "metadata": {},
   "outputs": [
    {
     "data": {
      "text/plain": [
       "LogisticRegression(max_iter=1000, random_state=42)"
      ]
     },
     "execution_count": 11,
     "metadata": {},
     "output_type": "execute_result"
    }
   ],
   "source": [
    "classification = LogisticRegression(random_state=42,max_iter=1000 )\n",
    "\n",
    "classification.fit(X_train, y_train)"
   ]
  },
  {
   "cell_type": "code",
   "execution_count": 12,
   "metadata": {},
   "outputs": [
    {
     "data": {
      "text/plain": [
       "0.9666666666666667"
      ]
     },
     "execution_count": 12,
     "metadata": {},
     "output_type": "execute_result"
    }
   ],
   "source": [
    "classification.score(X_test, y_test)"
   ]
  },
  {
   "cell_type": "code",
   "execution_count": 18,
   "metadata": {},
   "outputs": [
    {
     "data": {
      "text/plain": [
       "array(['A', 'A', 'A', 'A', 'A', 'A', 'A', 'A', 'A', 'A', 'A', 'A', 'A',\n",
       "       'A', 'A', 'A', 'A', 'A', 'A', 'A', 'A', 'A', 'A', 'A', 'A', 'A',\n",
       "       'A', 'A', 'A', 'A', 'A', 'A', 'A', 'A', 'A', 'A', 'A', 'A', 'A',\n",
       "       'A', 'A', 'A', 'A', 'A', 'A', 'A', 'A', 'A', 'A', 'A', 'A', 'A',\n",
       "       'A', 'A', 'A', 'A', 'A', 'A', 'A', 'A', 'A', 'A', 'A', 'A', 'A',\n",
       "       'A', 'A', 'A', 'A', 'A', 'A', 'A', 'A', 'A', 'A', 'A', 'A', 'A',\n",
       "       'A', 'A', 'A', 'A', 'A', 'A', 'A', 'A', 'A', 'A', 'A', 'A', 'A',\n",
       "       'A', 'A', 'A', 'A', 'A', 'A', 'A', 'A', 'A', 'A', 'A', 'A', 'A',\n",
       "       'A', 'A', 'A', 'A', 'A', 'A', 'A', 'A', 'A', 'A', 'A', 'A', 'A',\n",
       "       'A', 'A', 'A', 'A', 'A', 'A', 'A', 'A', 'A', 'A', 'A', 'A', 'A',\n",
       "       'A', 'A', 'A', 'A', 'A', 'A', 'A', 'A', 'A', 'A', 'A', 'A', 'A',\n",
       "       'A', 'A', 'A', 'A', 'A', 'A', 'A', 'A', 'A', 'A', 'A', 'A', 'A',\n",
       "       'A', 'A', 'A', 'A', 'A', 'A', 'A', 'A', 'A', 'A', 'A', 'A', 'A',\n",
       "       'A', 'A', 'A', 'A', 'A', 'A', 'A', 'A', 'A', 'A', 'A', 'A', 'A',\n",
       "       'A', 'A', 'A', 'A', 'A', 'A', 'A', 'A', 'A', 'A', 'A', 'A', 'A',\n",
       "       'A', 'A', 'A', 'A', 'A', 'A', 'A', 'A', 'A', 'A', 'A', 'A', 'A',\n",
       "       'A', 'A', 'A', 'A', 'A', 'A', 'A', 'A', 'A', 'A', 'A', 'A', 'A',\n",
       "       'A', 'A', 'A', 'A', 'A', 'A', 'A', 'A', 'A', 'A', 'A', 'A', 'A',\n",
       "       'A', 'A', 'A', 'A', 'A', 'A', 'A', 'A', 'A', 'A', 'A', 'A', 'A',\n",
       "       'A', 'A', 'A', 'A', 'A', 'A', 'A', 'A', 'A', 'A', 'A', 'A', 'A',\n",
       "       'A', 'A', 'A', 'A', 'A', 'A', 'A', 'A', 'A', 'A', 'A', 'A', 'A',\n",
       "       'A', 'A', 'A', 'A', 'A', 'A', 'A', 'A', 'A', 'A', 'A', 'A', 'A',\n",
       "       'A', 'A', 'A', 'A', 'A', 'A', 'A', 'A', 'A', 'A', 'A', 'A', 'A',\n",
       "       'A'], dtype=object)"
      ]
     },
     "execution_count": 18,
     "metadata": {},
     "output_type": "execute_result"
    }
   ],
   "source": [
    "predictions = classification.predict(X_test)\n",
    "predictions"
   ]
  },
  {
   "cell_type": "code",
   "execution_count": 19,
   "metadata": {},
   "outputs": [
    {
     "data": {
      "text/plain": [
       "521    A\n",
       "737    A\n",
       "740    A\n",
       "660    A\n",
       "411    A\n",
       "      ..\n",
       "468    A\n",
       "935    A\n",
       "428    A\n",
       "7      A\n",
       "155    A\n",
       "Name: rented_last_month, Length: 300, dtype: object"
      ]
     },
     "execution_count": 19,
     "metadata": {},
     "output_type": "execute_result"
    }
   ],
   "source": [
    "y_test"
   ]
  },
  {
   "cell_type": "code",
   "execution_count": 20,
   "metadata": {},
   "outputs": [
    {
     "data": {
      "text/plain": [
       "array([[0.94568725, 0.05431275],\n",
       "       [0.98612923, 0.01387077],\n",
       "       [0.98291974, 0.01708026],\n",
       "       [0.933425  , 0.066575  ],\n",
       "       [0.98128545, 0.01871455],\n",
       "       [0.94505802, 0.05494198],\n",
       "       [0.88939502, 0.11060498],\n",
       "       [0.94734735, 0.05265265],\n",
       "       [0.9706444 , 0.0293556 ],\n",
       "       [0.95360234, 0.04639766],\n",
       "       [0.95507172, 0.04492828],\n",
       "       [0.94497838, 0.05502162],\n",
       "       [0.94116802, 0.05883198],\n",
       "       [0.944336  , 0.055664  ],\n",
       "       [0.96223524, 0.03776476],\n",
       "       [0.97344802, 0.02655198],\n",
       "       [0.93256805, 0.06743195],\n",
       "       [0.89169592, 0.10830408],\n",
       "       [0.97982359, 0.02017641],\n",
       "       [0.98775354, 0.01224646],\n",
       "       [0.96118219, 0.03881781],\n",
       "       [0.95126503, 0.04873497],\n",
       "       [0.97603625, 0.02396375],\n",
       "       [0.97984143, 0.02015857],\n",
       "       [0.95684845, 0.04315155],\n",
       "       [0.96721837, 0.03278163],\n",
       "       [0.89946792, 0.10053208],\n",
       "       [0.93397218, 0.06602782],\n",
       "       [0.94809768, 0.05190232],\n",
       "       [0.968227  , 0.031773  ],\n",
       "       [0.96638863, 0.03361137],\n",
       "       [0.94278756, 0.05721244],\n",
       "       [0.98105177, 0.01894823],\n",
       "       [0.90768893, 0.09231107],\n",
       "       [0.97541181, 0.02458819],\n",
       "       [0.98843982, 0.01156018],\n",
       "       [0.81918651, 0.18081349],\n",
       "       [0.98753453, 0.01246547],\n",
       "       [0.94425967, 0.05574033],\n",
       "       [0.97438027, 0.02561973],\n",
       "       [0.97350992, 0.02649008],\n",
       "       [0.93345851, 0.06654149],\n",
       "       [0.89836646, 0.10163354],\n",
       "       [0.94295922, 0.05704078],\n",
       "       [0.9647532 , 0.0352468 ],\n",
       "       [0.94823583, 0.05176417],\n",
       "       [0.9856685 , 0.0143315 ],\n",
       "       [0.87912641, 0.12087359],\n",
       "       [0.96355615, 0.03644385],\n",
       "       [0.97285839, 0.02714161],\n",
       "       [0.95722453, 0.04277547],\n",
       "       [0.81579245, 0.18420755],\n",
       "       [0.97734118, 0.02265882],\n",
       "       [0.9776971 , 0.0223029 ],\n",
       "       [0.96366975, 0.03633025],\n",
       "       [0.91872516, 0.08127484],\n",
       "       [0.96205486, 0.03794514],\n",
       "       [0.95333959, 0.04666041],\n",
       "       [0.97674359, 0.02325641],\n",
       "       [0.96142768, 0.03857232],\n",
       "       [0.96084343, 0.03915657],\n",
       "       [0.98285325, 0.01714675],\n",
       "       [0.96377616, 0.03622384],\n",
       "       [0.88851444, 0.11148556],\n",
       "       [0.89566863, 0.10433137],\n",
       "       [0.95633072, 0.04366928],\n",
       "       [0.97349456, 0.02650544],\n",
       "       [0.87821781, 0.12178219],\n",
       "       [0.96428461, 0.03571539],\n",
       "       [0.92060909, 0.07939091],\n",
       "       [0.92475106, 0.07524894],\n",
       "       [0.98465893, 0.01534107],\n",
       "       [0.9640246 , 0.0359754 ],\n",
       "       [0.96650462, 0.03349538],\n",
       "       [0.9288251 , 0.0711749 ],\n",
       "       [0.98526061, 0.01473939],\n",
       "       [0.96226556, 0.03773444],\n",
       "       [0.97671474, 0.02328526],\n",
       "       [0.97050296, 0.02949704],\n",
       "       [0.93766811, 0.06233189],\n",
       "       [0.96955673, 0.03044327],\n",
       "       [0.9827352 , 0.0172648 ],\n",
       "       [0.97395814, 0.02604186],\n",
       "       [0.95735114, 0.04264886],\n",
       "       [0.95585242, 0.04414758],\n",
       "       [0.97357458, 0.02642542],\n",
       "       [0.977932  , 0.022068  ],\n",
       "       [0.96792485, 0.03207515],\n",
       "       [0.92611813, 0.07388187],\n",
       "       [0.95306598, 0.04693402],\n",
       "       [0.96611268, 0.03388732],\n",
       "       [0.9624686 , 0.0375314 ],\n",
       "       [0.97900546, 0.02099454],\n",
       "       [0.95157726, 0.04842274],\n",
       "       [0.97213417, 0.02786583],\n",
       "       [0.88456241, 0.11543759],\n",
       "       [0.87099936, 0.12900064],\n",
       "       [0.92653504, 0.07346496],\n",
       "       [0.97566627, 0.02433373],\n",
       "       [0.91348719, 0.08651281],\n",
       "       [0.94405121, 0.05594879],\n",
       "       [0.97817562, 0.02182438],\n",
       "       [0.93048864, 0.06951136],\n",
       "       [0.93993307, 0.06006693],\n",
       "       [0.95271147, 0.04728853],\n",
       "       [0.9698664 , 0.0301336 ],\n",
       "       [0.96551667, 0.03448333],\n",
       "       [0.9550295 , 0.0449705 ],\n",
       "       [0.97002177, 0.02997823],\n",
       "       [0.95878251, 0.04121749],\n",
       "       [0.87199264, 0.12800736],\n",
       "       [0.9614778 , 0.0385222 ],\n",
       "       [0.96637641, 0.03362359],\n",
       "       [0.9220422 , 0.0779578 ],\n",
       "       [0.9600659 , 0.0399341 ],\n",
       "       [0.98481121, 0.01518879],\n",
       "       [0.92662009, 0.07337991],\n",
       "       [0.92266769, 0.07733231],\n",
       "       [0.9693734 , 0.0306266 ],\n",
       "       [0.96348197, 0.03651803],\n",
       "       [0.96677756, 0.03322244],\n",
       "       [0.90767753, 0.09232247],\n",
       "       [0.98508837, 0.01491163],\n",
       "       [0.97445391, 0.02554609],\n",
       "       [0.9659269 , 0.0340731 ],\n",
       "       [0.95980779, 0.04019221],\n",
       "       [0.98606616, 0.01393384],\n",
       "       [0.93974138, 0.06025862],\n",
       "       [0.97842211, 0.02157789],\n",
       "       [0.96459545, 0.03540455],\n",
       "       [0.9374798 , 0.0625202 ],\n",
       "       [0.97422047, 0.02577953],\n",
       "       [0.98985397, 0.01014603],\n",
       "       [0.93828457, 0.06171543],\n",
       "       [0.98660725, 0.01339275],\n",
       "       [0.94828926, 0.05171074],\n",
       "       [0.96300567, 0.03699433],\n",
       "       [0.90202316, 0.09797684],\n",
       "       [0.96470925, 0.03529075],\n",
       "       [0.97175854, 0.02824146],\n",
       "       [0.94448671, 0.05551329],\n",
       "       [0.93838586, 0.06161414],\n",
       "       [0.9869683 , 0.0130317 ],\n",
       "       [0.97986323, 0.02013677],\n",
       "       [0.97943607, 0.02056393],\n",
       "       [0.90461684, 0.09538316],\n",
       "       [0.98025392, 0.01974608],\n",
       "       [0.97393757, 0.02606243],\n",
       "       [0.9736441 , 0.0263559 ],\n",
       "       [0.96433501, 0.03566499],\n",
       "       [0.98434078, 0.01565922],\n",
       "       [0.93412397, 0.06587603],\n",
       "       [0.958992  , 0.041008  ],\n",
       "       [0.92844198, 0.07155802],\n",
       "       [0.97486649, 0.02513351],\n",
       "       [0.97195322, 0.02804678],\n",
       "       [0.96709183, 0.03290817],\n",
       "       [0.98337376, 0.01662624],\n",
       "       [0.9804074 , 0.0195926 ],\n",
       "       [0.98046102, 0.01953898],\n",
       "       [0.98812215, 0.01187785],\n",
       "       [0.95224408, 0.04775592],\n",
       "       [0.95594083, 0.04405917],\n",
       "       [0.98469488, 0.01530512],\n",
       "       [0.97262621, 0.02737379],\n",
       "       [0.96987435, 0.03012565],\n",
       "       [0.91484127, 0.08515873],\n",
       "       [0.95046549, 0.04953451],\n",
       "       [0.95335034, 0.04664966],\n",
       "       [0.87632765, 0.12367235],\n",
       "       [0.88600495, 0.11399505],\n",
       "       [0.97228321, 0.02771679],\n",
       "       [0.96612819, 0.03387181],\n",
       "       [0.96727792, 0.03272208],\n",
       "       [0.97597798, 0.02402202],\n",
       "       [0.97623341, 0.02376659],\n",
       "       [0.96555068, 0.03444932],\n",
       "       [0.94982406, 0.05017594],\n",
       "       [0.95820932, 0.04179068],\n",
       "       [0.93206581, 0.06793419],\n",
       "       [0.85055382, 0.14944618],\n",
       "       [0.96685562, 0.03314438],\n",
       "       [0.95134856, 0.04865144],\n",
       "       [0.97347694, 0.02652306],\n",
       "       [0.90848186, 0.09151814],\n",
       "       [0.97772556, 0.02227444],\n",
       "       [0.93623634, 0.06376366],\n",
       "       [0.97423408, 0.02576592],\n",
       "       [0.97738025, 0.02261975],\n",
       "       [0.97096265, 0.02903735],\n",
       "       [0.93466205, 0.06533795],\n",
       "       [0.96620014, 0.03379986],\n",
       "       [0.89365863, 0.10634137],\n",
       "       [0.92090342, 0.07909658],\n",
       "       [0.97253768, 0.02746232],\n",
       "       [0.9409175 , 0.0590825 ],\n",
       "       [0.94344277, 0.05655723],\n",
       "       [0.96743686, 0.03256314],\n",
       "       [0.91062163, 0.08937837],\n",
       "       [0.94096508, 0.05903492],\n",
       "       [0.96376303, 0.03623697],\n",
       "       [0.96736864, 0.03263136],\n",
       "       [0.97785695, 0.02214305],\n",
       "       [0.94533603, 0.05466397],\n",
       "       [0.96607354, 0.03392646],\n",
       "       [0.95026952, 0.04973048],\n",
       "       [0.96092228, 0.03907772],\n",
       "       [0.94054243, 0.05945757],\n",
       "       [0.93509366, 0.06490634],\n",
       "       [0.96846818, 0.03153182],\n",
       "       [0.97127247, 0.02872753],\n",
       "       [0.94482973, 0.05517027],\n",
       "       [0.94217651, 0.05782349],\n",
       "       [0.87032566, 0.12967434],\n",
       "       [0.92311649, 0.07688351],\n",
       "       [0.95007839, 0.04992161],\n",
       "       [0.98661024, 0.01338976],\n",
       "       [0.98261237, 0.01738763],\n",
       "       [0.95309801, 0.04690199],\n",
       "       [0.92381327, 0.07618673],\n",
       "       [0.95954698, 0.04045302],\n",
       "       [0.98065215, 0.01934785],\n",
       "       [0.93909294, 0.06090706],\n",
       "       [0.97788837, 0.02211163],\n",
       "       [0.98461721, 0.01538279],\n",
       "       [0.94032763, 0.05967237],\n",
       "       [0.97953924, 0.02046076],\n",
       "       [0.94507331, 0.05492669],\n",
       "       [0.9506862 , 0.0493138 ],\n",
       "       [0.99045977, 0.00954023],\n",
       "       [0.97362888, 0.02637112],\n",
       "       [0.89123781, 0.10876219],\n",
       "       [0.9593628 , 0.0406372 ],\n",
       "       [0.95982433, 0.04017567],\n",
       "       [0.97503643, 0.02496357],\n",
       "       [0.9299315 , 0.0700685 ],\n",
       "       [0.95731642, 0.04268358],\n",
       "       [0.9751254 , 0.0248746 ],\n",
       "       [0.94630497, 0.05369503],\n",
       "       [0.92550587, 0.07449413],\n",
       "       [0.97601831, 0.02398169],\n",
       "       [0.92864553, 0.07135447],\n",
       "       [0.88631579, 0.11368421],\n",
       "       [0.92023961, 0.07976039],\n",
       "       [0.9139783 , 0.0860217 ],\n",
       "       [0.9757779 , 0.0242221 ],\n",
       "       [0.93876895, 0.06123105],\n",
       "       [0.92209947, 0.07790053],\n",
       "       [0.98921566, 0.01078434],\n",
       "       [0.94862582, 0.05137418],\n",
       "       [0.92431007, 0.07568993],\n",
       "       [0.96597538, 0.03402462],\n",
       "       [0.97810955, 0.02189045],\n",
       "       [0.98673496, 0.01326504],\n",
       "       [0.97987597, 0.02012403],\n",
       "       [0.88029954, 0.11970046],\n",
       "       [0.96980504, 0.03019496],\n",
       "       [0.96804945, 0.03195055],\n",
       "       [0.92090072, 0.07909928],\n",
       "       [0.98412787, 0.01587213],\n",
       "       [0.92508459, 0.07491541],\n",
       "       [0.95286962, 0.04713038],\n",
       "       [0.96737884, 0.03262116],\n",
       "       [0.92856785, 0.07143215],\n",
       "       [0.98293099, 0.01706901],\n",
       "       [0.98195642, 0.01804358],\n",
       "       [0.98019551, 0.01980449],\n",
       "       [0.98062276, 0.01937724],\n",
       "       [0.93904911, 0.06095089],\n",
       "       [0.97807463, 0.02192537],\n",
       "       [0.96494616, 0.03505384],\n",
       "       [0.95032343, 0.04967657],\n",
       "       [0.97699122, 0.02300878],\n",
       "       [0.95733518, 0.04266482],\n",
       "       [0.93417434, 0.06582566],\n",
       "       [0.96276496, 0.03723504],\n",
       "       [0.98854873, 0.01145127],\n",
       "       [0.97287926, 0.02712074],\n",
       "       [0.93063733, 0.06936267],\n",
       "       [0.91052661, 0.08947339],\n",
       "       [0.92152541, 0.07847459],\n",
       "       [0.94143799, 0.05856201],\n",
       "       [0.91916682, 0.08083318],\n",
       "       [0.9696458 , 0.0303542 ],\n",
       "       [0.96545882, 0.03454118],\n",
       "       [0.96211182, 0.03788818],\n",
       "       [0.98669229, 0.01330771],\n",
       "       [0.98745415, 0.01254585],\n",
       "       [0.94280344, 0.05719656],\n",
       "       [0.97445498, 0.02554502],\n",
       "       [0.95291485, 0.04708515],\n",
       "       [0.93122193, 0.06877807],\n",
       "       [0.98187328, 0.01812672],\n",
       "       [0.95733642, 0.04266358],\n",
       "       [0.9734321 , 0.0265679 ],\n",
       "       [0.9625905 , 0.0374095 ],\n",
       "       [0.95922044, 0.04077956],\n",
       "       [0.9736938 , 0.0263062 ],\n",
       "       [0.96198177, 0.03801823],\n",
       "       [0.98089792, 0.01910208]])"
      ]
     },
     "execution_count": 20,
     "metadata": {},
     "output_type": "execute_result"
    }
   ],
   "source": [
    "# to get the probability instead\n",
    "predictions_ = classification.predict_proba(X_test)\n",
    "predictions_"
   ]
  },
  {
   "cell_type": "code",
   "execution_count": 21,
   "metadata": {},
   "outputs": [
    {
     "data": {
      "text/plain": [
       "array([[290,   0],\n",
       "       [ 10,   0]], dtype=int64)"
      ]
     },
     "execution_count": 21,
     "metadata": {},
     "output_type": "execute_result"
    }
   ],
   "source": [
    "confusion_matrix(y_test, predictions)"
   ]
  },
  {
   "cell_type": "markdown",
   "metadata": {},
   "source": [
    "From DOC:\n",
    "\n",
    "    Confusion matrix whose i-th row and j-th\n",
    "    column entry indicates the number of\n",
    "    samples with true label being i-th class\n",
    "    and predicted label being j-th class.\n",
    "\n",
    "![](https://miro.medium.com/max/664/1*M295_PhlqBaq_SFj7edQ5w.png)"
   ]
  },
  {
   "cell_type": "code",
   "execution_count": 22,
   "metadata": {},
   "outputs": [
    {
     "data": {
      "text/plain": [
       "<AxesSubplot:>"
      ]
     },
     "execution_count": 22,
     "metadata": {},
     "output_type": "execute_result"
    },
    {
     "data": {
      "image/png": "[encoded data removed]",
      "text/plain": [
       "<Figure size 432x288 with 2 Axes>"
      ]
     },
     "metadata": {
      "needs_background": "light"
     },
     "output_type": "display_data"
    }
   ],
   "source": [
    "cf_matrix = confusion_matrix(y_test, predictions, normalize='all')\n",
    "sns.heatmap(cf_matrix, annot=True, fmt='.2%', cmap='Blues')"
   ]
  },
  {
   "cell_type": "code",
   "execution_count": 23,
   "metadata": {},
   "outputs": [
    {
     "data": {
      "text/plain": [
       "<AxesSubplot:>"
      ]
     },
     "execution_count": 23,
     "metadata": {},
     "output_type": "execute_result"
    },
    {
     "data": {
      "image/png": "[encoded data removed]",
      "text/plain": [
       "<Figure size 432x288 with 2 Axes>"
      ]
     },
     "metadata": {
      "needs_background": "light"
     },
     "output_type": "display_data"
    }
   ],
   "source": [
    "group_names = ['True A', 'False A', 'False B', 'True B']\n",
    "group_counts = [\"{0:0.0f}\".format(value) for value in cf_matrix.flatten()]\n",
    "group_percentages = [\"{0:.2%}\".format(value) for value in cf_matrix.flatten()/np.sum(cf_matrix)]\n",
    "labels = [f\"{v1}\\n{v2}\\n{v3}\" for v1, v2, v3 in zip(group_names,group_counts,group_percentages)]\n",
    "labels = np.asarray(labels).reshape(2,2)\n",
    "sns.heatmap(cf_matrix, annot=labels, fmt='', cmap='Blues')"
   ]
  },
  {
   "cell_type": "markdown",
   "metadata": {},
   "source": [
    "Conclusion:\n",
    "\n",
    "I think this score is so high because the Data in the sakila film is shaped in a way, that almost every film was rented at least one time. For this question it would be ok but in real life this case wouldnt hapen in that way. "
   ]
  }
 ],
 "metadata": {
  "kernelspec": {
   "display_name": "Python 3",
   "language": "python",
   "name": "python3"
  },
  "language_info": {
   "codemirror_mode": {
    "name": "ipython",
    "version": 3
   },
   "file_extension": ".py",
   "mimetype": "text/x-python",
   "name": "python",
   "nbconvert_exporter": "python",
   "pygments_lexer": "ipython3",
   "version": "3.8.8"
  }
 },
 "nbformat": 4,
 "nbformat_minor": 4
}
